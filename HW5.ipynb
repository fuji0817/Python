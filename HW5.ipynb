{
 "cells": [
  {
   "cell_type": "code",
   "execution_count": 23,
   "metadata": {},
   "outputs": [
    {
     "name": "stdout",
     "output_type": "stream",
     "text": [
      "67.16666666666667\n",
      "66.6\n",
      "75.33333333333333\n",
      "89\n",
      "85.0\n",
      "90\n",
      "48\n",
      "60.0\n",
      "90\n",
      "13.433995020924426\n",
      "9.707728879609279\n",
      "8.825468196582484\n"
     ]
    }
   ],
   "source": [
    "import numpy as np\n",
    "\n",
    "english_score = np.array([55,89,76,65,48,70])\n",
    "math_score = np.array([60,85,60,68,np.nan,60])\n",
    "chinese_score = np.array([65,90,82,72,66,77])\n",
    "\n",
    "#1. 請計算各科成績平均、最大值、最小值、標準差，其中數學缺一筆資料可忽略?\n",
    "\n",
    "print(np.mean(english_score))\n",
    "print(np.nanmean(math_score))\n",
    "print(np.mean(chinese_score))\n",
    "print(np.max(english_score))\n",
    "print(np.nanmax(math_score))\n",
    "print(np.max(chinese_score))\n",
    "print(np.min(english_score))\n",
    "print(np.nanmin(math_score))\n",
    "print(np.max(chinese_score))\n",
    "print(np.std(english_score))\n",
    "print(np.nanstd(math_score))\n",
    "print(np.std(chinese_score))"
   ]
  },
  {
   "cell_type": "code",
   "execution_count": 24,
   "metadata": {},
   "outputs": [
    {
     "name": "stdout",
     "output_type": "stream",
     "text": [
      "64.66666666666667\n",
      "85\n",
      "55\n",
      "9.860132971832694\n"
     ]
    }
   ],
   "source": [
    "#2. 第五位同學補考數學後成績為55，請計算補考後數學成績平均、最大值、最小值、標準差?\n",
    "\n",
    "math_score = np.array([60,85,60,68,55,60])\n",
    "print(np.mean(math_score))\n",
    "print(np.max(math_score))\n",
    "print(np.min(math_score))\n",
    "print(np.std(math_score))\n"
   ]
  },
  {
   "cell_type": "code",
   "execution_count": 28,
   "metadata": {},
   "outputs": [
    {
     "name": "stdout",
     "output_type": "stream",
     "text": [
      "[[1.         0.97792828]\n",
      " [0.97792828 1.        ]]\n",
      "[[1.         0.74056803]\n",
      " [0.74056803 1.        ]]\n"
     ]
    }
   ],
   "source": [
    "#3. 用補考後資料找出與國文成績相關係數最高的學科?\n",
    "\n",
    "#英文\n",
    "\n",
    "english_score = np.array([55,89,76,65,48,70])\n",
    "math_score = np.array([60,85,60,68,55,60])\n",
    "chinese_score = np.array([65,90,82,72,66,77])\n",
    "\n",
    "print(np.corrcoef(english_score,chinese_score))\n",
    "print(np.corrcoef(math_score,chinese_score))\n"
   ]
  },
  {
   "cell_type": "code",
   "execution_count": null,
   "metadata": {},
   "outputs": [],
   "source": []
  }
 ],
 "metadata": {
  "kernelspec": {
   "display_name": "Python 3",
   "language": "python",
   "name": "python3"
  },
  "language_info": {
   "codemirror_mode": {
    "name": "ipython",
    "version": 3
   },
   "file_extension": ".py",
   "mimetype": "text/x-python",
   "name": "python",
   "nbconvert_exporter": "python",
   "pygments_lexer": "ipython3",
   "version": "3.7.3"
  }
 },
 "nbformat": 4,
 "nbformat_minor": 2
}
